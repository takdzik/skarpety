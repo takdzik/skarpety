{
 "cells": [
  {
   "cell_type": "code",
   "execution_count": 9,
   "id": "seventh-saying",
   "metadata": {},
   "outputs": [
    {
     "name": "stdout",
     "output_type": "stream",
     "text": [
      "Succeeded to open the port\n",
      "Succeeded to change the baudrate\n",
      "Rozpoczynam pomiar na dystansie 2.0 m...\n",
      "Naciśnij ENTER, gdy robot osiągnie cel...\n",
      "Czas przejazdu: 14.88 sekund\n",
      "Zmierzona prędkość: 0.13 m/s\n",
      "Zmierzona prędkość robota: 0.13 m/s\n"
     ]
    }
   ],
   "source": [
    "from jetbot import Robot\n",
    "import control_utils\n",
    "\n",
    "# Tworzymy obiekt robota\n",
    "robot = Robot()\n",
    "\n",
    "# Parametry testu\n",
    "distance = 2.0  # w metrach (np. 230 cm)\n",
    "speed = 1  # Prędkość podstawowa\n",
    "correction = -0.05  # Korekta dla prawego silnika\n",
    "\n",
    "# Pomiar prędkości\n",
    "measured_speed = measure_speed_with_correction(robot, distance, speed=speed, correction=correction)\n",
    "\n",
    "print(f\"Zmierzona prędkość robota: {measured_speed:.2f} m/s\")\n"
   ]
  },
  {
   "cell_type": "code",
   "execution_count": null,
   "id": "fabulous-double",
   "metadata": {},
   "outputs": [],
   "source": []
  }
 ],
 "metadata": {
  "kernelspec": {
   "display_name": "Python 3",
   "language": "python",
   "name": "python3"
  },
  "language_info": {
   "codemirror_mode": {
    "name": "ipython",
    "version": 3
   },
   "file_extension": ".py",
   "mimetype": "text/x-python",
   "name": "python",
   "nbconvert_exporter": "python",
   "pygments_lexer": "ipython3",
   "version": "3.6.9"
  }
 },
 "nbformat": 4,
 "nbformat_minor": 5
}
