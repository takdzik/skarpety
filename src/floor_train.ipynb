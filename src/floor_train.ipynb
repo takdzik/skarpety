{
 "cells": [
  {
   "cell_type": "code",
   "execution_count": null,
   "id": "minus-french",
   "metadata": {},
   "outputs": [],
   "source": [
    "from PIL import Image\n",
    "\n",
    "def crop_bottom_half(image):\n",
    "    \"\"\"\n",
    "    Przycina obraz do dolnej połowy.\n",
    "    :param image: Obiekt PIL Image.\n",
    "    :return: Obiekt PIL Image zawierający dolną połowę oryginalnego obrazu.\n",
    "    \"\"\"\n",
    "    width, height = image.size\n",
    "    return image.crop((0, height // 4, width, height))\n"
   ]
  },
  {
   "cell_type": "code",
   "execution_count": 1,
   "id": "floppy-apollo",
   "metadata": {},
   "outputs": [
    {
     "name": "stdout",
     "output_type": "stream",
     "text": [
      "cuda\n",
      "1768\n",
      "1768\n",
      "Średni embedding podłogi został zapisany.\n"
     ]
    }
   ],
   "source": [
    "import torch\n",
    "from torchvision import models, transforms\n",
    "from torch.utils.data import DataLoader\n",
    "from torchvision.datasets import ImageFolder\n",
    "import numpy as np\n",
    "\n",
    "# Model ResNet-18 jako ekstraktor cech\n",
    "device = torch.device(\"cuda\" if torch.cuda.is_available() else \"cpu\")\n",
    "print(device)\n",
    "model = models.resnet18(pretrained=True)\n",
    "model.fc = torch.nn.Identity()  # Wyłączenie ostatniej warstwy\n",
    "model = model.to(device)\n",
    "model.eval()\n",
    "\n",
    "# Transformacje danych\n",
    "transform = transforms.Compose([\n",
    "    #transforms.Lambda(crop_bottom_half),\n",
    "    transforms.Resize((224, 224)),\n",
    "    transforms.ToTensor(),\n",
    "    transforms.Normalize([0.485, 0.456, 0.406], [0.229, 0.224, 0.225])\n",
    "])\n",
    "\n",
    "# Wczytaj dane podłogi\n",
    "floor_dataset = ImageFolder(\"/workspace/JETANK/data/mapping/prepared_2/\", transform=transform)\n",
    "floor_loader = DataLoader(floor_dataset, batch_size=16, shuffle=False)\n",
    "print(len(floor_dataset))\n",
    "\n",
    "\n",
    "\n",
    "#Wyekstrahuj embeddings\n",
    "floor_embeddings = []\n",
    "with torch.no_grad():\n",
    "    for inputs, _ in floor_loader:  # Ignorujemy etykiety\n",
    "        inputs = inputs.to(device)\n",
    "        embeddings = model(inputs).cpu().numpy()\n",
    "        floor_embeddings.extend(embeddings)\n",
    "\n",
    "floor_embeddings = np.array(floor_embeddings)\n",
    "print(len(floor_embeddings))\n",
    "# Oblicz średni embedding (wzorzec podłogi)\n",
    "floor_prototype = np.mean(floor_embeddings, axis=0)\n",
    "np.save(\"../models/floor_prototype_full.npy\", floor_prototype)  # Zapis wzorca\n",
    "print(\"Średni embedding podłogi został zapisany.\")\n"
   ]
  },
  {
   "cell_type": "code",
   "execution_count": null,
   "id": "mathematical-assistant",
   "metadata": {},
   "outputs": [],
   "source": []
  }
 ],
 "metadata": {
  "kernelspec": {
   "display_name": "Python 3",
   "language": "python",
   "name": "python3"
  },
  "language_info": {
   "codemirror_mode": {
    "name": "ipython",
    "version": 3
   },
   "file_extension": ".py",
   "mimetype": "text/x-python",
   "name": "python",
   "nbconvert_exporter": "python",
   "pygments_lexer": "ipython3",
   "version": "3.6.9"
  }
 },
 "nbformat": 4,
 "nbformat_minor": 5
}
