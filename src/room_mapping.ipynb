{
 "cells": [
  {
   "cell_type": "code",
   "execution_count": 1,
   "metadata": {},
   "outputs": [
    {
     "name": "stdout",
     "output_type": "stream",
     "text": [
      "Succeeded to open the port\n",
      "Succeeded to change the baudrate\n"
     ]
    },
    {
     "data": {
      "application/vnd.jupyter.widget-view+json": {
       "model_id": "b4752baf64e845b1a3e7bdc93dbd95da",
       "version_major": 2,
       "version_minor": 0
      },
      "text/plain": [
       "Image(value=b'\\xff\\xd8\\xff\\xe0\\x00\\x10JFIF\\x00\\x01\\x01\\x00\\x00\\x01\\x00\\x01\\x00\\x00\\xff\\xdb\\x00C\\x00\\x02\\x01\\x0…"
      ]
     },
     "metadata": {},
     "output_type": "display_data"
    }
   ],
   "source": [
    "import torch\n",
    "from torchvision import models, transforms\n",
    "import traitlets\n",
    "import ipywidgets.widgets as widgets\n",
    "from IPython.display import display\n",
    "from jetbot import Camera, bgr8_to_jpeg\n",
    "import numpy as np\n",
    "from PIL import Image\n",
    "import matplotlib.pyplot as plt\n",
    "import time\n",
    "import math\n",
    "from jetbot import Robot\n",
    "import utils\n",
    "\n",
    "robot = Robot()\n",
    "camera = Camera.instance(width=300, height=300)\n",
    "image = widgets.Image(format='jpeg', width=300, height=300)  # this width and height doesn't necessarily have to match the camera\n",
    "camera_link = traitlets.dlink((camera, 'value'), (image, 'value'), transform=bgr8_to_jpeg)\n",
    "display(image)"
   ]
  },
  {
   "cell_type": "code",
   "execution_count": 15,
   "metadata": {},
   "outputs": [],
   "source": [
    "# Model rozpoznawania podłogi\n",
    "floor_prototype = np.load(\"../models/floor_prototype_full.npy\")\n",
    "device = torch.device(\"cuda\" if torch.cuda.is_available() else \"cpu\")\n",
    "model = models.resnet18(pretrained=True)\n",
    "model.fc = torch.nn.Identity()  # Usunięcie ostatniej warstwy\n",
    "model = model.to(device)\n",
    "model.eval()  # Tryb ewaluacji\n",
    "\n",
    "# Parametry sterowania\n",
    "FORWARD_SPEED = 1\n",
    "TURN_SPEED = 1\n",
    "DELAY = 0.1     # Czas odświeżania pętli w sekundach\n",
    "MAP_SIZE = 300  # Rozmiar mapy\n",
    "CELL_SIZE = 0.01  # 1 pixel = 0.01 m\n",
    "ROBOT_SIZE = 0.2  # Rozmiar robota w metrach\n",
    "VISION_RANGE = 0.2  # Jak daleko widzi robot (0.2m = 20 pikseli)\n",
    "FORWARD_SPEED_MS = FORWARD_SPEED * 0.16  # Prędkość w metrach na sekundę\n",
    "TURN_ANGLE = 30  # Robot skręca o 30 stopni przy losowym wyborze kierunku\n",
    "\n",
    "# Inicjalizacja mapy (-1 = nieznane)\n",
    "map_grid = np.full((MAP_SIZE, MAP_SIZE), -1)\n",
    "\n",
    "# Pozycja początkowa robota w środku mapy\n",
    "robot_x, robot_y = MAP_SIZE // 2, MAP_SIZE // 2\n",
    "robot_direction = 0  # Kąt obrotu w stopniach (0 = góra)\n",
    "last_move_time = time.time()  # Czas ostatniego ruchu do przodu\n",
    "previous_move_was_forward = False  # Czy ostatni ruch był do przodu?\n"
   ]
  },
  {
   "cell_type": "code",
   "execution_count": 16,
   "metadata": {},
   "outputs": [],
   "source": [
    "def move_and_print():\n",
    "    global robot_direction, robot_x, robot_y, last_move_time, previous_move_was_forward\n",
    "    try:\n",
    "        print(\"Rozpoczęcie jazdy. Naciśnij Ctrl+C, aby zatrzymać.\")\n",
    "        has_turned = False  # Flaga: Czy robot ostatnio skręcał?\n",
    "        turn_direction = None  # Kierunek ostatniego skrętu: 'left' lub 'right'\n",
    "\n",
    "        while True:\n",
    "            image = Image.fromarray(camera.value)\n",
    "            forward_distance = utils.is_floor(image, model, device, floor_prototype)\n",
    "            utils.update_map(forward_distance, robot_x, robot_y, robot_direction, map_grid)\n",
    "            \n",
    "            if previous_move_was_forward:\n",
    "                current_time = time.time()\n",
    "                time_elapsed = current_time - last_move_time\n",
    "                last_move_time = current_time  # Aktualizacja ostatniego ruchu\n",
    "                step_size = int((FORWARD_SPEED_MS * time_elapsed) / CELL_SIZE)\n",
    "                # Obliczenie nowej pozycji robota\n",
    "                angle_rad = np.radians(robot_direction)\n",
    "                robot_x += int(step_size * np.cos(angle_rad))\n",
    "                robot_y += int(step_size * np.sin(angle_rad))\n",
    "\n",
    "            if forward_distance < 0.175: #and not utils.any_red_20_20(map_grid, robot_direction, robot_x, robot_y):  # Jeśli podłoga wykryta\n",
    "                print(f\"Podłoga wykryta. Jedź do przodu. Odległość: {forward_distance:.4f}\")\n",
    "                utils.move_forward(robot, FORWARD_SPEED)\n",
    "                last_move_time = time.time()\n",
    "                time.sleep(DELAY)  # Jedź chwilę do przodu\n",
    "                has_turned = False\n",
    "                turn_direction = None\n",
    "                previous_move_was_forward = True\n",
    "            else:\n",
    "                print(f\"Brak podłogi przed robotem. Odległość: {forward_distance:.4f}\")\n",
    "                previous_move_was_forward = False\n",
    "                utils.stop(robot)\n",
    "                if has_turned:\n",
    "                    print(f\"Kontynuowanie skrętu w kierunku: {turn_direction}\")\n",
    "                else:\n",
    "                    # Rozejrzenie się i wybór najlepszego kierunku\n",
    "                    print(\"Rozejrzenie się...\")\n",
    "                    utils.turn_by_angle(robot, -TURN_ANGLE/2, TURN_SPEED)  # Obrót w lewo o 15°\n",
    "                    image = Image.fromarray(camera.value)\n",
    "                    left_distance = utils.is_floor(image, model, device, floor_prototype)\n",
    "                    utils.turn_by_angle(robot, TURN_ANGLE, TURN_SPEED)  # Obrót w prawo o 30° (15° w prawo od pozycji wyjściowej)\n",
    "                    image = Image.fromarray(camera.value)\n",
    "                    right_distance = utils.is_floor(image, model, device, floor_prototype)\n",
    "                    # Powrót do pozycji początkowej (15° w lewo od pozycji prawej)\n",
    "                    utils.turn_by_angle(robot, -TURN_ANGLE/2, TURN_SPEED)\n",
    "                    # Wybór kierunku\n",
    "                    if left_distance < right_distance:\n",
    "                        print(f\"Skręt w lewo o {TURN_ANGLE}°. Odległość w lewo: {left_distance:.4f}\")\n",
    "                        turn_direction = 'left'\n",
    "                    else:\n",
    "                        print(f\"Skręt w prawo o {TURN_ANGLE}°. Odległość w prawo: {right_distance:.4f}\")\n",
    "                        turn_direction = 'right'\n",
    "                    has_turned = True\n",
    "\n",
    "                if turn_direction == 'left':\n",
    "                    utils.turn_by_angle(robot, -TURN_ANGLE, TURN_SPEED)\n",
    "                    robot_direction = (robot_direction - TURN_ANGLE) % 360\n",
    "                elif turn_direction == 'right':\n",
    "                    utils.turn_by_angle(robot, TURN_ANGLE, TURN_SPEED)\n",
    "                    robot_direction = (right_distance + TURN_ANGLE) % 360\n",
    "\n",
    "    except KeyboardInterrupt:\n",
    "        print(\"Zatrzymano robota.\")\n",
    "    finally:\n",
    "        utils.stop(robot)\n",
    "\n",
    "    \n"
   ]
  },
  {
   "cell_type": "code",
   "execution_count": 17,
   "metadata": {},
   "outputs": [
    {
     "name": "stdout",
     "output_type": "stream",
     "text": [
      "Rozpoczęcie jazdy. Naciśnij Ctrl+C, aby zatrzymać.\n",
      "Podłoga wykryta. Jedź do przodu. Odległość: 0.1636\n",
      "Podłoga wykryta. Jedź do przodu. Odległość: 0.1627\n",
      "Podłoga wykryta. Jedź do przodu. Odległość: 0.1468\n",
      "Podłoga wykryta. Jedź do przodu. Odległość: 0.1507\n",
      "Brak podłogi przed robotem. Odległość: 0.1807\n",
      "Rozejrzenie się...\n",
      "Obrót o -15.0° zakończony w czasie 0.23 sekundy (prędkość: 1).\n",
      "Obrót o 30° zakończony w czasie 0.47 sekundy (prędkość: 1).\n",
      "Obrót o -15.0° zakończony w czasie 0.23 sekundy (prędkość: 1).\n",
      "Skręt w lewo o 30°. Odległość w lewo: 0.1854\n",
      "Obrót o -30° zakończony w czasie 0.47 sekundy (prędkość: 1).\n",
      "Podłoga wykryta. Jedź do przodu. Odległość: 0.1738\n",
      "Brak podłogi przed robotem. Odległość: 0.2072\n",
      "Rozejrzenie się...\n",
      "Obrót o -15.0° zakończony w czasie 0.23 sekundy (prędkość: 1).\n",
      "Obrót o 30° zakończony w czasie 0.47 sekundy (prędkość: 1).\n",
      "Obrót o -15.0° zakończony w czasie 0.23 sekundy (prędkość: 1).\n",
      "Skręt w lewo o 30°. Odległość w lewo: 0.1904\n",
      "Obrót o -30° zakończony w czasie 0.47 sekundy (prędkość: 1).\n",
      "Podłoga wykryta. Jedź do przodu. Odległość: 0.1368\n",
      "Podłoga wykryta. Jedź do przodu. Odległość: 0.1365\n",
      "Podłoga wykryta. Jedź do przodu. Odległość: 0.1395\n",
      "Podłoga wykryta. Jedź do przodu. Odległość: 0.1226\n",
      "Podłoga wykryta. Jedź do przodu. Odległość: 0.1221\n",
      "Podłoga wykryta. Jedź do przodu. Odległość: 0.1148\n",
      "Podłoga wykryta. Jedź do przodu. Odległość: 0.1216\n",
      "Podłoga wykryta. Jedź do przodu. Odległość: 0.1214\n",
      "Podłoga wykryta. Jedź do przodu. Odległość: 0.1154\n",
      "Podłoga wykryta. Jedź do przodu. Odległość: 0.1268\n",
      "Podłoga wykryta. Jedź do przodu. Odległość: 0.1591\n",
      "Podłoga wykryta. Jedź do przodu. Odległość: 0.1426\n",
      "Podłoga wykryta. Jedź do przodu. Odległość: 0.1325\n",
      "Podłoga wykryta. Jedź do przodu. Odległość: 0.1394\n",
      "Podłoga wykryta. Jedź do przodu. Odległość: 0.1384\n",
      "Podłoga wykryta. Jedź do przodu. Odległość: 0.1658\n",
      "Podłoga wykryta. Jedź do przodu. Odległość: 0.1644\n",
      "Brak podłogi przed robotem. Odległość: 0.1844\n",
      "Rozejrzenie się...\n",
      "Obrót o -15.0° zakończony w czasie 0.23 sekundy (prędkość: 1).\n",
      "Obrót o 30° zakończony w czasie 0.47 sekundy (prędkość: 1).\n",
      "Obrót o -15.0° zakończony w czasie 0.23 sekundy (prędkość: 1).\n",
      "Skręt w lewo o 30°. Odległość w lewo: 0.1458\n",
      "Obrót o -30° zakończony w czasie 0.47 sekundy (prędkość: 1).\n",
      "Podłoga wykryta. Jedź do przodu. Odległość: 0.1321\n",
      "Podłoga wykryta. Jedź do przodu. Odległość: 0.1524\n",
      "Podłoga wykryta. Jedź do przodu. Odległość: 0.1673\n",
      "Brak podłogi przed robotem. Odległość: 0.1784\n",
      "Rozejrzenie się...\n",
      "Obrót o -15.0° zakończony w czasie 0.23 sekundy (prędkość: 1).\n",
      "Obrót o 30° zakończony w czasie 0.47 sekundy (prędkość: 1).\n",
      "Obrót o -15.0° zakończony w czasie 0.23 sekundy (prędkość: 1).\n",
      "Skręt w lewo o 30°. Odległość w lewo: 0.1691\n",
      "Obrót o -30° zakończony w czasie 0.47 sekundy (prędkość: 1).\n",
      "Podłoga wykryta. Jedź do przodu. Odległość: 0.1189\n",
      "Podłoga wykryta. Jedź do przodu. Odległość: 0.0949\n",
      "Podłoga wykryta. Jedź do przodu. Odległość: 0.1232\n",
      "Podłoga wykryta. Jedź do przodu. Odległość: 0.1336\n",
      "Podłoga wykryta. Jedź do przodu. Odległość: 0.1342\n",
      "Podłoga wykryta. Jedź do przodu. Odległość: 0.1312\n",
      "Podłoga wykryta. Jedź do przodu. Odległość: 0.1406\n",
      "Podłoga wykryta. Jedź do przodu. Odległość: 0.1342\n",
      "Podłoga wykryta. Jedź do przodu. Odległość: 0.1379\n",
      "Podłoga wykryta. Jedź do przodu. Odległość: 0.1611\n",
      "Podłoga wykryta. Jedź do przodu. Odległość: 0.1417\n",
      "Podłoga wykryta. Jedź do przodu. Odległość: 0.1311\n",
      "Podłoga wykryta. Jedź do przodu. Odległość: 0.1151\n",
      "Podłoga wykryta. Jedź do przodu. Odległość: 0.1166\n",
      "Podłoga wykryta. Jedź do przodu. Odległość: 0.1255\n",
      "Podłoga wykryta. Jedź do przodu. Odległość: 0.1226\n",
      "Podłoga wykryta. Jedź do przodu. Odległość: 0.1199\n",
      "Podłoga wykryta. Jedź do przodu. Odległość: 0.1212\n",
      "Podłoga wykryta. Jedź do przodu. Odległość: 0.1255\n",
      "Podłoga wykryta. Jedź do przodu. Odległość: 0.1302\n",
      "Podłoga wykryta. Jedź do przodu. Odległość: 0.1357\n",
      "Podłoga wykryta. Jedź do przodu. Odległość: 0.1212\n",
      "Podłoga wykryta. Jedź do przodu. Odległość: 0.1342\n",
      "Podłoga wykryta. Jedź do przodu. Odległość: 0.1325\n",
      "Podłoga wykryta. Jedź do przodu. Odległość: 0.1290\n",
      "Podłoga wykryta. Jedź do przodu. Odległość: 0.1500\n",
      "Podłoga wykryta. Jedź do przodu. Odległość: 0.1623\n",
      "Brak podłogi przed robotem. Odległość: 0.1765\n",
      "Rozejrzenie się...\n",
      "Obrót o -15.0° zakończony w czasie 0.23 sekundy (prędkość: 1).\n",
      "Obrót o 30° zakończony w czasie 0.47 sekundy (prędkość: 1).\n",
      "Obrót o -15.0° zakończony w czasie 0.23 sekundy (prędkość: 1).\n",
      "Skręt w lewo o 30°. Odległość w lewo: 0.1659\n",
      "Obrót o -30° zakończony w czasie 0.47 sekundy (prędkość: 1).\n",
      "Podłoga wykryta. Jedź do przodu. Odległość: 0.1502\n",
      "Podłoga wykryta. Jedź do przodu. Odległość: 0.1350\n",
      "Podłoga wykryta. Jedź do przodu. Odległość: 0.1308\n",
      "Podłoga wykryta. Jedź do przodu. Odległość: 0.1371\n",
      "Zatrzymano robota.\n"
     ]
    }
   ],
   "source": [
    "move_and_print()"
   ]
  },
  {
   "cell_type": "code",
   "execution_count": 18,
   "metadata": {},
   "outputs": [
    {
     "data": {
      "image/png": "[encoded data removed]",
      "text/plain": [
       "<Figure size 1152x1152 with 1 Axes>"
      ]
     },
     "metadata": {
      "needs_background": "light"
     },
     "output_type": "display_data"
    }
   ],
   "source": [
    "utils.draw_map(robot_x, robot_y, map_grid, MAP_SIZE)"
   ]
  },
  {
   "cell_type": "code",
   "execution_count": 30,
   "metadata": {},
   "outputs": [],
   "source": [
    "camera.stop()"
   ]
  },
  {
   "cell_type": "code",
   "execution_count": null,
   "metadata": {},
   "outputs": [],
   "source": []
  }
 ],
 "metadata": {
  "kernelspec": {
   "display_name": "Python 3",
   "language": "python",
   "name": "python3"
  },
  "language_info": {
   "codemirror_mode": {
    "name": "ipython",
    "version": 3
   },
   "file_extension": ".py",
   "mimetype": "text/x-python",
   "name": "python",
   "nbconvert_exporter": "python",
   "pygments_lexer": "ipython3",
   "version": "3.6.9"
  }
 },
 "nbformat": 4,
 "nbformat_minor": 4
}
