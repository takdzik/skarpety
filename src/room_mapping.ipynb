{
 "cells": [
  {
   "cell_type": "code",
   "execution_count": 2,
   "metadata": {},
   "outputs": [
    {
     "name": "stdout",
     "output_type": "stream",
     "text": [
      "/home/jetbot/.pyenv/versions/3.11.6/bin/python\n",
      "Wersja Pythona: 3.11.6 (main, Dec 31 2024, 02:53:33) [GCC 7.5.0]\n",
      "/home/jetbot/.pyenv/versions/3.11.6/lib/python3.11/site-packages/cv2.cpython-311-aarch64-linux-gnu.so\n",
      "/home/jetbot/skarpety/src/control_utils.py\n",
      "/home/jetbot/.pyenv/versions/3.11.6/lib/python3.11/site-packages/jetbot\n"
     ]
    }
   ],
   "source": [
    "import sys\n",
    "import os\n",
    "import cv2\n",
    "import jetbot\n",
    "import numpy as np\n",
    "import traitlets\n",
    "import control_utils\n",
    "from ipywidgets import Image, VBox\n",
    "from IPython.display import display\n",
    "from jetbot import bgr8_to_jpeg, Camera\n",
    "\n",
    "print(sys.executable)\n",
    "print(cv2.__file__)\n",
    "print(control_utils.__file__)\n",
    "print(jetbot.__file__)"
   ]
  },
  {
   "cell_type": "code",
   "execution_count": 7,
   "metadata": {},
   "outputs": [
    {
     "name": "stdout",
     "output_type": "stream",
     "text": [
      "Inicjalizacja kamery\n",
      "GST_ARGUS: Cleaning up\n",
      "CONSUMER: Done Success\n",
      "GST_ARGUS: Done Success\n",
      "GST_ARGUS: Creating output stream\n",
      "CONSUMER: Waiting until producer is connected...\n",
      "GST_ARGUS: Available Sensor modes :\n",
      "GST_ARGUS: 3264 x 2464 FR = 21.000000 fps Duration = 47619048 ; Analog Gain range min 1.000000, max 10.625000; Exposure Range min 13000, max 683709000;\n",
      "\n",
      "GST_ARGUS: 3264 x 1848 FR = 28.000001 fps Duration = 35714284 ; Analog Gain range min 1.000000, max 10.625000; Exposure Range min 13000, max 683709000;\n",
      "\n",
      "GST_ARGUS: 1920 x 1080 FR = 29.999999 fps Duration = 33333334 ; Analog Gain range min 1.000000, max 10.625000; Exposure Range min 13000, max 683709000;\n",
      "\n",
      "GST_ARGUS: 1640 x 1232 FR = 29.999999 fps Duration = 33333334 ; Analog Gain range min 1.000000, max 10.625000; Exposure Range min 13000, max 683709000;\n",
      "\n",
      "GST_ARGUS: 1280 x 720 FR = 59.999999 fps Duration = 16666667 ; Analog Gain range min 1.000000, max 10.625000; Exposure Range min 13000, max 683709000;\n",
      "\n",
      "GST_ARGUS: 1280 x 720 FR = 120.000005 fps DuratWidget Image do wyświetlania obrazu\n",
      "Wiązanie dynamicznego obrazu z widgetem\n",
      "ion = 8333333 ; Analog Gain range min 1.000000, max 10.625000; Exposure Range min 13000, max 683709000;\n",
      "\n",
      "GST_ARGUS: Running with following settings:\n",
      "   Camera index = 0 \n",
      "   Camera mode  = 3 \n",
      "   Output Stream W = 1640 H = 1232 \n",
      "   seconds to Run    = 0 \n",
      "   Frame Rate = 29.999999 \n",
      "GST_ARGUS: Setup Complete, Starting captures for 0 seconds\n",
      "GST_ARGUS: Starting repeat capture requests.\n",
      "CONSUMER: Producer has connected; continuing.\n",
      "Wyświetlenie widgetu w Jupyter Notebook\n"
     ]
    },
    {
     "name": "stderr",
     "output_type": "stream",
     "text": [
      "[ WARN:0@217.899] global cap_gstreamer.cpp:1777 open OpenCV | GStreamer warning: Cannot query video position: status=0, value=-1, duration=-1\n"
     ]
    },
    {
     "data": {
      "application/vnd.jupyter.widget-view+json": {
       "model_id": "180f0be9baef42509a01ce43e18bcc1c",
       "version_major": 2,
       "version_minor": 0
      },
      "text/plain": [
       "VBox(children=(Image(value=b'\\xff\\xd8\\xff\\xe0\\x00\\x10JFIF\\x00\\x01\\x01\\x00\\x00\\x01\\x00\\x01\\x00\\x00\\xff\\xdb\\x00C…"
      ]
     },
     "metadata": {},
     "output_type": "display_data"
    }
   ],
   "source": [
    "# pelen obraz z kamerki \n",
    "\n",
    "\n",
    "print(\"Inicjalizacja kamery\")\n",
    "camera = Camera.instance(width=300, height=300)\n",
    "\n",
    "print(\"Widget Image do wyświetlania obrazu\")\n",
    "image_widget = Image(format='jpeg', width=300, height=300)\n",
    "\n",
    "print(\"Wiązanie dynamicznego obrazu z widgetem\")\n",
    "traitlets.dlink((camera, 'value'), (image_widget, 'value'), transform=bgr8_to_jpeg)\n",
    "\n",
    "print(\"Wyświetlenie widgetu w Jupyter Notebook\")\n",
    "display(VBox([image_widget]))"
   ]
  },
  {
   "cell_type": "code",
   "execution_count": 8,
   "metadata": {},
   "outputs": [],
   "source": [
    "#camera.stop()"
   ]
  },
  {
   "cell_type": "code",
   "execution_count": 7,
   "metadata": {},
   "outputs": [],
   "source": [
    "control_utils.resetCameraPosition()"
   ]
  },
  {
   "cell_type": "code",
   "execution_count": null,
   "metadata": {},
   "outputs": [],
   "source": []
  }
 ],
 "metadata": {
  "kernelspec": {
   "display_name": "Python 3.11",
   "language": "python",
   "name": "python3.11"
  },
  "language_info": {
   "codemirror_mode": {
    "name": "ipython",
    "version": 3
   },
   "file_extension": ".py",
   "mimetype": "text/x-python",
   "name": "python",
   "nbconvert_exporter": "python",
   "pygments_lexer": "ipython3",
   "version": "3.11.6"
  }
 },
 "nbformat": 4,
 "nbformat_minor": 2
}
